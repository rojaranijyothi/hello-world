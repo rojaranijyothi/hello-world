name = "ROJA"
print("I am",name)
